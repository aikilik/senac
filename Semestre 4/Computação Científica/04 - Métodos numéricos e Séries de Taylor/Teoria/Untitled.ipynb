{
 "cells": [
  {
   "cell_type": "code",
   "execution_count": 21,
   "id": "d56bc73e-7691-4ac8-86e4-fbe12dfa3635",
   "metadata": {
    "tags": []
   },
   "outputs": [],
   "source": [
    "def teste(n):\n",
    "    return (n-1)*(2*(n-1)-1)\n",
    "\n",
    "def teste2(n, z = 2):\n",
    "    for i in range(n):\n",
    "        z = (n) * (2*n-1)\n",
    "    return z"
   ]
  },
  {
   "cell_type": "code",
   "execution_count": 5,
   "id": "5e51a360-621a-4cd6-aecf-e55fe14ead00",
   "metadata": {
    "tags": []
   },
   "outputs": [
    {
     "data": {
      "text/plain": [
       "6"
      ]
     },
     "execution_count": 5,
     "metadata": {},
     "output_type": "execute_result"
    }
   ],
   "source": [
    "teste(3)"
   ]
  },
  {
   "cell_type": "code",
   "execution_count": 6,
   "id": "93f3d7b2-7d28-4942-91fe-bccef0de0e50",
   "metadata": {
    "tags": []
   },
   "outputs": [
    {
     "data": {
      "text/plain": [
       "15"
      ]
     },
     "execution_count": 6,
     "metadata": {},
     "output_type": "execute_result"
    }
   ],
   "source": [
    "teste(4)"
   ]
  },
  {
   "cell_type": "code",
   "execution_count": 7,
   "id": "5d45d261-35db-47e8-a499-4b73ab34b6cf",
   "metadata": {
    "tags": []
   },
   "outputs": [
    {
     "data": {
      "text/plain": [
       "28"
      ]
     },
     "execution_count": 7,
     "metadata": {},
     "output_type": "execute_result"
    }
   ],
   "source": [
    "teste(5)"
   ]
  },
  {
   "cell_type": "code",
   "execution_count": 23,
   "id": "e689842f-797f-41d1-a97d-ee1991e133f7",
   "metadata": {
    "tags": []
   },
   "outputs": [
    {
     "data": {
      "text/plain": [
       "28"
      ]
     },
     "execution_count": 23,
     "metadata": {},
     "output_type": "execute_result"
    }
   ],
   "source": [
    "teste2(4)"
   ]
  }
 ],
 "metadata": {
  "kernelspec": {
   "display_name": "Python 3 (ipykernel)",
   "language": "python",
   "name": "python3"
  },
  "language_info": {
   "codemirror_mode": {
    "name": "ipython",
    "version": 3
   },
   "file_extension": ".py",
   "mimetype": "text/x-python",
   "name": "python",
   "nbconvert_exporter": "python",
   "pygments_lexer": "ipython3",
   "version": "3.11.5"
  }
 },
 "nbformat": 4,
 "nbformat_minor": 5
}
