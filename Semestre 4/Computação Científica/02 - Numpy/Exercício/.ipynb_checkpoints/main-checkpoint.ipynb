{
 "cells": [
  {
   "cell_type": "code",
   "execution_count": 1,
   "id": "3bdf8ef7-3fc9-4e14-a78a-dcd58a682b03",
   "metadata": {
    "tags": []
   },
   "outputs": [],
   "source": [
    "import numpy as np\n",
    "\n",
    "temperaturas = np.array([2.5, 3.2, 5.1, 6.3, 7.0, 8.1, 10.5, 9.8, 8.5, 7.3,\n",
    "    6.2, 5.1, 4.5, 3.8, 5.6, 6.7, 7.2, 8.3, 10.1, 9.4,\n",
    "    8.2, 7.0, 6.3, 5.4, 4.7, 3.9, 5.8, 6.9, 7.4, 8.5,\n",
    "    10.3, 9.6, 8.4, 7.2, 6.5, 5.6, 4.9, 4.1, 5.9, 7.0,\n",
    "    7.5, 8.6, 10.4, 9.7, 8.5, 7.3, 6.6, 5.7, 5.0, 4.2,\n",
    "    6.0, 7.1, 7.6, 8.7, 10.6, 9.9, 8.7, 7.5, 6.8, 5.9,\n",
    "    5.2, 4.4, 6.1, 7.2, 7.7, 8.8, 10.7, 10.0, 8.8, 7.6,\n",
    "    6.9, 6.0, 5.3, 4.5, 6.2, 7.3, 7.8, 8.9, 10.8, 10.2,\n",
    "    9.0, 7.8, 7.1, 6.2, 5.5, 4.7, 6.3, 7.4, 7.9, 9.0,\n",
    "    10.9, 10.3, 9.1, 7.9, 7.2, 6.3, 5.6, 4.8, 6.4, 7.5])"
   ]
  },
  {
   "cell_type": "markdown",
   "id": "096f596e-2627-4c5d-93c6-0878e9925d0d",
   "metadata": {},
   "source": [
    "Média das temperaturas:"
   ]
  },
  {
   "cell_type": "code",
   "execution_count": 2,
   "id": "34b29281-77be-407e-a80f-f69a99650a00",
   "metadata": {
    "tags": []
   },
   "outputs": [
    {
     "name": "stdout",
     "output_type": "stream",
     "text": [
      "7.183999999999998\n"
     ]
    }
   ],
   "source": [
    "print(np.mean(temperaturas))"
   ]
  },
  {
   "cell_type": "markdown",
   "id": "20cf16c5-97d0-4229-bcb7-24f576de005e",
   "metadata": {},
   "source": [
    "Mediana:"
   ]
  },
  {
   "cell_type": "code",
   "execution_count": 3,
   "id": "8d3fa985-aa5a-4018-9c40-872d9c455188",
   "metadata": {
    "tags": []
   },
   "outputs": [
    {
     "name": "stdout",
     "output_type": "stream",
     "text": [
      "7.2\n"
     ]
    }
   ],
   "source": [
    "print(np.median(temperaturas))"
   ]
  },
  {
   "cell_type": "markdown",
   "id": "9653d197-400d-48e4-bdca-745d94cd04bb",
   "metadata": {},
   "source": [
    "Desvio padrão"
   ]
  },
  {
   "cell_type": "code",
   "execution_count": 4,
   "id": "e691a816-243b-4c7c-be6e-67b59d749f38",
   "metadata": {
    "tags": []
   },
   "outputs": [
    {
     "name": "stdout",
     "output_type": "stream",
     "text": [
      "1.907916140714785\n"
     ]
    }
   ],
   "source": [
    "print(np.std(temperaturas))"
   ]
  },
  {
   "cell_type": "markdown",
   "id": "220062e5-d634-4265-835b-64244ce87f8d",
   "metadata": {},
   "source": [
    "Classificaçao:"
   ]
  },
  {
   "cell_type": "code",
   "execution_count": 5,
   "id": "52bc773f-77a9-4c3c-9a68-dcaceb290d6c",
   "metadata": {
    "tags": []
   },
   "outputs": [
    {
     "name": "stdout",
     "output_type": "stream",
     "text": [
      "[2.5]\n"
     ]
    }
   ],
   "source": [
    "frio = (temperaturas <= 3)\n",
    "print(temperaturas[frio])"
   ]
  },
  {
   "cell_type": "code",
   "execution_count": 6,
   "id": "c4fb2e98-bdf0-49e6-80ae-93c2969be624",
   "metadata": {
    "tags": []
   },
   "outputs": [
    {
     "name": "stdout",
     "output_type": "stream",
     "text": [
      "[3.2 4.5 3.8 4.7 3.9 4.9 4.1 5.  4.2 4.4 4.5 4.7 4.8]\n"
     ]
    }
   ],
   "source": [
    "moderado = ((temperaturas > 3) & (temperaturas <= 5))\n",
    "print(temperaturas[moderado])"
   ]
  },
  {
   "cell_type": "code",
   "execution_count": 7,
   "id": "a00f1feb-196d-4a11-a36e-497fdd95b7f4",
   "metadata": {
    "tags": []
   },
   "outputs": [
    {
     "name": "stdout",
     "output_type": "stream",
     "text": [
      "[ 5.1  6.3  7.   8.1 10.5  9.8  8.5  7.3  6.2  5.1  5.6  6.7  7.2  8.3\n",
      " 10.1  9.4  8.2  7.   6.3  5.4  5.8  6.9  7.4  8.5 10.3  9.6  8.4  7.2\n",
      "  6.5  5.6  5.9  7.   7.5  8.6 10.4  9.7  8.5  7.3  6.6  5.7  6.   7.1\n",
      "  7.6  8.7 10.6  9.9  8.7  7.5  6.8  5.9  5.2  6.1  7.2  7.7  8.8 10.7\n",
      " 10.   8.8  7.6  6.9  6.   5.3  6.2  7.3  7.8  8.9 10.8 10.2  9.   7.8\n",
      "  7.1  6.2  5.5  6.3  7.4  7.9  9.  10.9 10.3  9.1  7.9  7.2  6.3  5.6\n",
      "  6.4  7.5]\n"
     ]
    }
   ],
   "source": [
    "quente = (temperaturas > 5)\n",
    "print(temperaturas[quente])"
   ]
  },
  {
   "cell_type": "markdown",
   "id": "88c276ad-d595-483b-b2bf-31232202a073",
   "metadata": {},
   "source": [
    "Dia mais frio:"
   ]
  },
  {
   "cell_type": "code",
   "execution_count": 8,
   "id": "8b0fb0b1-a449-4ba3-a2cb-bcdf448a3545",
   "metadata": {
    "tags": []
   },
   "outputs": [
    {
     "name": "stdout",
     "output_type": "stream",
     "text": [
      "2.5\n"
     ]
    }
   ],
   "source": [
    "print(np.min(temperaturas))"
   ]
  },
  {
   "cell_type": "code",
   "execution_count": 9,
   "id": "b623b117-feb4-4d9b-b154-5113e005ba93",
   "metadata": {
    "tags": []
   },
   "outputs": [
    {
     "name": "stdout",
     "output_type": "stream",
     "text": [
      "10.9\n"
     ]
    }
   ],
   "source": [
    "print(np.max(temperaturas))"
   ]
  }
 ],
 "metadata": {
  "kernelspec": {
   "display_name": "Python 3 (ipykernel)",
   "language": "python",
   "name": "python3"
  },
  "language_info": {
   "codemirror_mode": {
    "name": "ipython",
    "version": 3
   },
   "file_extension": ".py",
   "mimetype": "text/x-python",
   "name": "python",
   "nbconvert_exporter": "python",
   "pygments_lexer": "ipython3",
   "version": "3.10.11"
  }
 },
 "nbformat": 4,
 "nbformat_minor": 5
}
