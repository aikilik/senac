{
 "cells": [
  {
   "cell_type": "markdown",
   "id": "a132eabd-b36a-4923-a092-393e2b1fc92f",
   "metadata": {},
   "source": [
    "# Introdução ao NumPy"
   ]
  },
  {
   "cell_type": "code",
   "execution_count": 1,
   "id": "afb68ecf-3228-44ea-956d-3cdbfcd0bb34",
   "metadata": {
    "tags": []
   },
   "outputs": [],
   "source": [
    "import numpy as np"
   ]
  },
  {
   "cell_type": "markdown",
   "id": "a745671c-f5eb-4fd7-839e-92101f1a47b2",
   "metadata": {},
   "source": [
    "Substitui as liastas do Python:\n",
    "- As listas são muito flexíveis -> Tem alto consumo de memória e alto custo de processamento\n",
    "\n",
    "Array do NumPy:\n",
    "- Tem tamanho fixo\n",
    "- Mesmo tipo da linguagem C\n",
    "\n",
    "Fornece vários tipos de bibliotecas para processamento de dados"
   ]
  },
  {
   "cell_type": "code",
   "execution_count": 3,
   "id": "e19bbc0f-89d9-4fce-ad25-92240cd94073",
   "metadata": {
    "tags": []
   },
   "outputs": [
    {
     "name": "stdout",
     "output_type": "stream",
     "text": [
      "0\n",
      "1\n",
      "2\n",
      "3\n"
     ]
    }
   ],
   "source": [
    "a = np.array(42)\n",
    "b = np.array([1, 2, 3, 4, 5])\n",
    "c = np.array([[1,2,3,], [4, 5, 6]])\n",
    "d = np.array([[[1,2,3], [4,5,6]], [[7,8,9], [10,11,12]]])\n",
    "\n",
    "print(a.ndim)\n",
    "print(b.ndim)\n",
    "print(c.ndim)\n",
    "print(d.ndim)"
   ]
  },
  {
   "cell_type": "code",
   "execution_count": 5,
   "id": "c69ffbb7-a667-4dcc-a140-80cd87ac25ba",
   "metadata": {
    "tags": []
   },
   "outputs": [
    {
     "name": "stdout",
     "output_type": "stream",
     "text": [
      "()\n",
      "(5,)\n",
      "(2, 3)\n",
      "(2, 2, 3)\n"
     ]
    }
   ],
   "source": [
    "print(a.shape)\n",
    "print(b.shape)\n",
    "print(c.shape)\n",
    "print(d.shape)"
   ]
  },
  {
   "cell_type": "code",
   "execution_count": 6,
   "id": "a8d6c824-e13d-4b03-99e4-7a280b6abcc5",
   "metadata": {
    "tags": []
   },
   "outputs": [
    {
     "name": "stdout",
     "output_type": "stream",
     "text": [
      "[1, 3, 4]\n"
     ]
    }
   ],
   "source": [
    "x = [1,3,4]\n",
    "a = np.asarray(x)\n",
    "print(x)"
   ]
  },
  {
   "cell_type": "code",
   "execution_count": 10,
   "id": "ff7c9e51-5ac4-4379-a22a-89e72ff9609f",
   "metadata": {
    "tags": []
   },
   "outputs": [
    {
     "name": "stdout",
     "output_type": "stream",
     "text": [
      "[b'banana' b'maca']\n"
     ]
    }
   ],
   "source": [
    "astrings = np.array([\"banana\", \"maca\"], dtype = \"S\")\n",
    "print(astrings)"
   ]
  },
  {
   "cell_type": "code",
   "execution_count": 14,
   "id": "6ac7682e-13c2-42b4-aba3-41e3adf4c8f5",
   "metadata": {
    "tags": []
   },
   "outputs": [
    {
     "data": {
      "text/plain": [
       "10"
      ]
     },
     "execution_count": 14,
     "metadata": {},
     "output_type": "execute_result"
    }
   ],
   "source": [
    "a = np.array([[1,2,3,4,5],[6,7,8,9,10]])\n",
    "a[1,4]"
   ]
  },
  {
   "cell_type": "markdown",
   "id": "f530af76-911f-4338-be94-f74572109ebf",
   "metadata": {},
   "source": [
    "Ordenação"
   ]
  },
  {
   "cell_type": "code",
   "execution_count": 15,
   "id": "56290e71-1c0e-4fd0-ba6c-af0d2557a350",
   "metadata": {
    "tags": []
   },
   "outputs": [
    {
     "data": {
      "text/plain": [
       "array([ 3,  5,  6, 17, 20])"
      ]
     },
     "execution_count": 15,
     "metadata": {},
     "output_type": "execute_result"
    }
   ],
   "source": [
    "a = np.array([17,20,3,6,5])\n",
    "np.sort(a)"
   ]
  },
  {
   "cell_type": "markdown",
   "id": "447c42c4-32d9-4b38-a3a3-016ed6b843ff",
   "metadata": {},
   "source": [
    "Concatenação"
   ]
  },
  {
   "cell_type": "code",
   "execution_count": 16,
   "id": "1213dc6e-ddb9-45f3-a79b-856dfd76055c",
   "metadata": {
    "tags": []
   },
   "outputs": [
    {
     "data": {
      "text/plain": [
       "array([1, 2, 3, 4, 5, 6, 7, 8])"
      ]
     },
     "execution_count": 16,
     "metadata": {},
     "output_type": "execute_result"
    }
   ],
   "source": [
    "a = np.array([1,2,3,4])\n",
    "b = np.array([5,6,7,8])\n",
    "np.concatenate((a,b))"
   ]
  },
  {
   "cell_type": "code",
   "execution_count": 19,
   "id": "14f3026b-45cf-44e1-bad5-5fada412ef03",
   "metadata": {
    "tags": []
   },
   "outputs": [
    {
     "name": "stdout",
     "output_type": "stream",
     "text": [
      "[[1 2]\n",
      " [3 4]\n",
      " [5 6]\n",
      " [7 8]]\n"
     ]
    }
   ],
   "source": [
    "x = np.array([[1,2], [3,4]])\n",
    "y = np.array([[5,6], [7,8]])\n",
    "print(np.concatenate((x, y), axis = 0)) # concatenar pelas colunas\n"
   ]
  },
  {
   "cell_type": "code",
   "execution_count": 20,
   "id": "08bea816-bdd8-453f-8036-b64040eb88f6",
   "metadata": {
    "tags": []
   },
   "outputs": [
    {
     "name": "stdout",
     "output_type": "stream",
     "text": [
      "[[1 2 5 6]\n",
      " [3 4 7 8]]\n"
     ]
    }
   ],
   "source": [
    "x = np.array([[1,2], [3,4]])\n",
    "y = np.array([[5,6], [7,8]])\n",
    "print(np.concatenate((x, y), axis = 1)) # concatenar pelas linhas"
   ]
  },
  {
   "cell_type": "markdown",
   "id": "306beb32-a296-4ff3-9ec2-5437ee2e612a",
   "metadata": {},
   "source": [
    "Busca"
   ]
  },
  {
   "cell_type": "code",
   "execution_count": 21,
   "id": "b147ddf2-cd83-4ad3-bee0-22ea615c26f1",
   "metadata": {
    "tags": []
   },
   "outputs": [
    {
     "name": "stdout",
     "output_type": "stream",
     "text": [
      "[1 2 3 4 5 6]\n"
     ]
    }
   ],
   "source": [
    "a = np.array([[1,2,3,4], [5,6,7,8],[9,10,11,12]])\n",
    "print(a[a < 7])"
   ]
  },
  {
   "cell_type": "code",
   "execution_count": 22,
   "id": "5c283247-3be9-4dad-a037-37c98051405b",
   "metadata": {
    "tags": []
   },
   "outputs": [
    {
     "name": "stdout",
     "output_type": "stream",
     "text": [
      "[ 8  9 10 11 12]\n"
     ]
    }
   ],
   "source": [
    "maiores_sete = (a > 7)\n",
    "print(a[maiores_sete])"
   ]
  },
  {
   "cell_type": "code",
   "execution_count": 23,
   "id": "10e6e6f9-4a30-45cf-a16e-a8615f1fdce2",
   "metadata": {
    "tags": []
   },
   "outputs": [
    {
     "name": "stdout",
     "output_type": "stream",
     "text": [
      "[ 3  4  5  6  7  8  9 10]\n"
     ]
    }
   ],
   "source": [
    "c = a[(a > 2) & (a < 11)] # & e, | ou\n",
    "print(c)"
   ]
  },
  {
   "cell_type": "code",
   "execution_count": 24,
   "id": "4821ea7c-51cf-4721-acb7-a2720a12f837",
   "metadata": {
    "tags": []
   },
   "outputs": [
    {
     "data": {
      "text/plain": [
       "(array([0, 0, 1, 1, 1, 1, 2, 2], dtype=int64),\n",
       " array([2, 3, 0, 1, 2, 3, 0, 1], dtype=int64))"
      ]
     },
     "execution_count": 24,
     "metadata": {},
     "output_type": "execute_result"
    }
   ],
   "source": [
    "np.where((a > 2) & (a < 11)) # retorna os indices"
   ]
  },
  {
   "cell_type": "code",
   "execution_count": 27,
   "id": "abe8f564-6910-4118-a9b1-46b1e201cc3b",
   "metadata": {
    "tags": []
   },
   "outputs": [
    {
     "name": "stdout",
     "output_type": "stream",
     "text": [
      "(array([4, 5], dtype=int64),)\n",
      "[4 5]\n"
     ]
    }
   ],
   "source": [
    "b = np.array([0, 1, 2, 3, 4, 5])\n",
    "idx = np.where(b > 3)\n",
    "print(idx)\n",
    "print(b[idx])"
   ]
  },
  {
   "cell_type": "markdown",
   "id": "57773a34-05bd-4b5a-8b31-c49028efa2b2",
   "metadata": {},
   "source": [
    "Operações"
   ]
  },
  {
   "cell_type": "code",
   "execution_count": 29,
   "id": "b47f6647-b164-46c5-949b-0e3fdce63370",
   "metadata": {
    "tags": []
   },
   "outputs": [
    {
     "name": "stdout",
     "output_type": "stream",
     "text": [
      "[2 3]\n",
      "[1 2]\n",
      "[0 1]\n",
      "[10 20]\n",
      "3\n"
     ]
    }
   ],
   "source": [
    "a1 = np.array([1,2])\n",
    "a2 = np.ones(2, dtype=int)\n",
    "\n",
    "print(a1 + a2)\n",
    "print(a1 * a2)\n",
    "print(a1 - a2)\n",
    "\n",
    "print(a1 * 10)\n",
    "\n",
    "print(a1.sum())"
   ]
  },
  {
   "cell_type": "markdown",
   "id": "2ac3ba08-6036-419b-a2d4-ddebc4ad1298",
   "metadata": {},
   "source": [
    "Randômicos"
   ]
  },
  {
   "cell_type": "code",
   "execution_count": 31,
   "id": "dbf34a71-2cd5-4211-9efc-685c617f77a1",
   "metadata": {
    "tags": []
   },
   "outputs": [
    {
     "name": "stdout",
     "output_type": "stream",
     "text": [
      "[[62 76 15 36]\n",
      " [28 29  6 49]\n",
      " [53 38 98 85]\n",
      " [78 53  1 89]\n",
      " [34 64 29 12]]\n"
     ]
    }
   ],
   "source": [
    "from numpy import random\n",
    "\n",
    "x =random.randint(100, size = (5, 4))\n",
    "print(x)"
   ]
  },
  {
   "cell_type": "code",
   "execution_count": 32,
   "id": "ee34f0b7-3ef9-4413-97ef-86f015dd10a2",
   "metadata": {
    "tags": []
   },
   "outputs": [
    {
     "name": "stdout",
     "output_type": "stream",
     "text": [
      "[0.17237909 0.39627497 0.6834318  0.14991751 0.24590332 0.13254606\n",
      " 0.21172283 0.11262459 0.39415007 0.26286843]\n"
     ]
    }
   ],
   "source": [
    "x = random.rand(10)\n",
    "print(x)"
   ]
  },
  {
   "cell_type": "code",
   "execution_count": 33,
   "id": "7c58d94e-30ae-47e2-b320-2ddcb7397a90",
   "metadata": {
    "tags": []
   },
   "outputs": [
    {
     "name": "stdout",
     "output_type": "stream",
     "text": [
      "[5 5 9 7 5 7 5 7 9 5 7 7 9 7 7 7 5 7 7 5]\n"
     ]
    }
   ],
   "source": [
    "x = random.choice([3,5,7,9], p=[0.1,0.3,0.5,0.1], size = (20))\n",
    "print(x)"
   ]
  },
  {
   "cell_type": "markdown",
   "id": "654e0140-15d7-4822-bade-99cb5b1bed45",
   "metadata": {},
   "source": [
    "Entrada e Saída"
   ]
  },
  {
   "cell_type": "code",
   "execution_count": 36,
   "id": "64ccf756-1d52-4b90-b59f-1ff1fe04e0ee",
   "metadata": {
    "tags": []
   },
   "outputs": [
    {
     "name": "stdout",
     "output_type": "stream",
     "text": [
      "[1 2 3 4 5]\n"
     ]
    }
   ],
   "source": [
    "a = np.array([1,2,3,4,5])\n",
    "np.savetxt(\"out.txt\", a) # salva em uma arquivo com cda conteúdo em uma linha\n",
    "b = np.loadtxt(\"out.txt\")\n",
    "c = np.array(b, dtype = int)\n",
    "print(c)"
   ]
  },
  {
   "cell_type": "code",
   "execution_count": null,
   "id": "e3935eb3-3be4-4109-aad4-32b0bbef05dc",
   "metadata": {},
   "outputs": [],
   "source": []
  }
 ],
 "metadata": {
  "kernelspec": {
   "display_name": "Python 3 (ipykernel)",
   "language": "python",
   "name": "python3"
  },
  "language_info": {
   "codemirror_mode": {
    "name": "ipython",
    "version": 3
   },
   "file_extension": ".py",
   "mimetype": "text/x-python",
   "name": "python",
   "nbconvert_exporter": "python",
   "pygments_lexer": "ipython3",
   "version": "3.10.11"
  }
 },
 "nbformat": 4,
 "nbformat_minor": 5
}
