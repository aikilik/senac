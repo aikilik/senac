{
 "cells": [
  {
   "cell_type": "markdown",
   "id": "0c5b1431",
   "metadata": {},
   "source": [
    "# Lançamento oblíquo"
   ]
  },
  {
   "cell_type": "code",
   "execution_count": 1,
   "id": "10f4a5ca",
   "metadata": {},
   "outputs": [
    {
     "data": {
      "text/html": [
       "<div id=\"glowscript\" class=\"glowscript\"></div>"
      ],
      "text/plain": [
       "<IPython.core.display.HTML object>"
      ]
     },
     "metadata": {},
     "output_type": "display_data"
    },
    {
     "data": {
      "application/javascript": [
       "if (typeof Jupyter !== \"undefined\") { window.__context = { glowscript_container: $(\"#glowscript\").removeAttr(\"id\")};}else{ element.textContent = ' ';}"
      ],
      "text/plain": [
       "<IPython.core.display.Javascript object>"
      ]
     },
     "metadata": {},
     "output_type": "display_data"
    },
    {
     "data": {
      "application/javascript": [
       "if (typeof Jupyter !== \"undefined\") {require.undef(\"nbextensions/vpython_libraries/glow.min\");}else{element.textContent = ' ';}"
      ],
      "text/plain": [
       "<IPython.core.display.Javascript object>"
      ]
     },
     "metadata": {},
     "output_type": "display_data"
    },
    {
     "data": {
      "application/javascript": [
       "if (typeof Jupyter !== \"undefined\") {require.undef(\"nbextensions/vpython_libraries/glowcomm\");}else{element.textContent = ' ';}"
      ],
      "text/plain": [
       "<IPython.core.display.Javascript object>"
      ]
     },
     "metadata": {},
     "output_type": "display_data"
    },
    {
     "data": {
      "application/javascript": [
       "if (typeof Jupyter !== \"undefined\") {require.undef(\"nbextensions/vpython_libraries/jquery-ui.custom.min\");}else{element.textContent = ' ';}"
      ],
      "text/plain": [
       "<IPython.core.display.Javascript object>"
      ]
     },
     "metadata": {},
     "output_type": "display_data"
    },
    {
     "data": {
      "application/javascript": [
       "if (typeof Jupyter !== \"undefined\") {require([\"nbextensions/vpython_libraries/glow.min\"], function(){console.log(\"GLOW LOADED\");});}else{element.textContent = ' ';}"
      ],
      "text/plain": [
       "<IPython.core.display.Javascript object>"
      ]
     },
     "metadata": {},
     "output_type": "display_data"
    },
    {
     "data": {
      "application/javascript": [
       "if (typeof Jupyter !== \"undefined\") {require([\"nbextensions/vpython_libraries/glowcomm\"], function(){console.log(\"GLOWCOMM LOADED\");});}else{element.textContent = ' ';}"
      ],
      "text/plain": [
       "<IPython.core.display.Javascript object>"
      ]
     },
     "metadata": {},
     "output_type": "display_data"
    },
    {
     "data": {
      "application/javascript": [
       "if (typeof Jupyter !== \"undefined\") {require([\"nbextensions/vpython_libraries/jquery-ui.custom.min\"], function(){console.log(\"JQUERY LOADED\");});}else{element.textContent = ' ';}"
      ],
      "text/plain": [
       "<IPython.core.display.Javascript object>"
      ]
     },
     "metadata": {},
     "output_type": "display_data"
    },
    {
     "name": "stdout",
     "output_type": "stream",
     "text": [
      " Tempo - 0.1, Distância - 0.3125667198004747, Altura - 1.7726539554219745\n",
      " Tempo - 0.2, Distância - 0.6251334396009494, Altura - 3.447307910843949\n",
      " Tempo - 0.30000000000000004, Distância - 0.937700159401424, Altura - 5.023961866265924\n",
      " Tempo - 0.4, Distância - 1.2502668792018987, Altura - 6.502615821687899\n",
      " Tempo - 0.5, Distância - 1.5628335990023734, Altura - 7.883269777109873\n",
      " Tempo - 0.6, Distância - 1.875400318802848, Altura - 9.165923732531848\n",
      " Tempo - 0.7, Distância - 2.1879670386033228, Altura - 10.350577687953821\n",
      " Tempo - 0.7999999999999999, Distância - 2.5005337584037974, Altura - 11.437231643375796\n",
      " Tempo - 0.8999999999999999, Distância - 2.813100478204272, Altura - 12.42588559879777\n",
      " Tempo - 0.9999999999999999, Distância - 3.125667198004747, Altura - 13.316539554219744\n",
      " Tempo - 1.0999999999999999, Distância - 3.4382339178052215, Altura - 14.109193509641718\n",
      " Tempo - 1.2, Distância - 3.750800637605696, Altura - 14.803847465063692\n",
      " Tempo - 1.3, Distância - 4.063367357406171, Altura - 15.400501420485666\n",
      " Tempo - 1.4000000000000001, Distância - 4.3759340772066455, Altura - 15.89915537590764\n",
      " Tempo - 1.5000000000000002, Distância - 4.68850079700712, Altura - 16.299809331329612\n",
      " Tempo - 1.6000000000000003, Distância - 5.001067516807595, Altura - 16.602463286751586\n",
      " Tempo - 1.7000000000000004, Distância - 5.31363423660807, Altura - 16.80711724217356\n",
      " Tempo - 1.8000000000000005, Distância - 5.626200956408545, Altura - 16.913771197595533\n",
      " Tempo - 1.9000000000000006, Distância - 5.93876767620902, Altura - 16.922425153017507\n",
      " Tempo - 2.0000000000000004, Distância - 6.2513343960094945, Altura - 16.83307910843948\n",
      " Tempo - 2.1000000000000005, Distância - 6.563901115809969, Altura - 16.645733063861456\n",
      " Tempo - 2.2000000000000006, Distância - 6.876467835610444, Altura - 16.36038701928343\n",
      " Tempo - 2.3000000000000007, Distância - 7.1890345554109185, Altura - 15.977040974705403\n",
      " Tempo - 2.400000000000001, Distância - 7.501601275211393, Altura - 15.495694930127376\n",
      " Tempo - 2.500000000000001, Distância - 7.814167995011868, Altura - 14.91634888554935\n",
      " Tempo - 2.600000000000001, Distância - 8.126734714812343, Altura - 14.239002840971324\n",
      " Tempo - 2.700000000000001, Distância - 8.439301434612817, Altura - 13.463656796393298\n",
      " Tempo - 2.800000000000001, Distância - 8.751868154413291, Altura - 12.590310751815272\n",
      " Tempo - 2.9000000000000012, Distância - 9.064434874213767, Altura - 11.618964707237245\n",
      " Tempo - 3.0000000000000013, Distância - 9.377001594014242, Altura - 10.549618662659219\n",
      " Tempo - 3.1000000000000014, Distância - 9.689568313814716, Altura - 9.382272618081192\n",
      " Tempo - 3.2000000000000015, Distância - 10.00213503361519, Altura - 8.116926573503164\n",
      " Tempo - 3.3000000000000016, Distância - 10.314701753415665, Altura - 6.753580528925138\n",
      " Tempo - 3.4000000000000017, Distância - 10.62726847321614, Altura - 5.292234484347111\n",
      " Tempo - 3.5000000000000018, Distância - 10.939835193016615, Altura - 3.7328884397690847\n",
      " Tempo - 3.600000000000002, Distância - 11.252401912817088, Altura - 2.075542395191058\n",
      " Tempo - 3.700000000000002, Distância - 11.564968632617564, Altura - 0.3201963506130312\n"
     ]
    }
   ],
   "source": [
    "from vpython import *\n",
    "import math\n",
    "\n",
    "# objeto\n",
    "\n",
    "bola = sphere(pos = vector(-5, 0, 0), radius = 1, color = color.red, make_trail = True)\n",
    "solo = box(pos = vector(0,-1.5,0), size = vec(20,1,1), color = color.white)\n",
    "legenda = label(pos = vector(0,-3.5,0), text = 'Legenda')\n",
    "legenda2 = label(pos = vector(0,-6.5,0), text = 'Legenda')\n",
    "\n",
    "\n",
    "g = 9.8\n",
    "v_0 = 18.0 # velocidade inicial\n",
    "angulo= radians(80) # angulo de inclinação\n",
    "\n",
    "\n",
    "# determinação de velocidade inicial dos eixos\n",
    "# v_0x = v_0 * math.cos(angulo)\n",
    "v_0x = v_0 *math.cos(angulo) / k * (1 - math.e ** -r * tempo)\n",
    "v_0y = v_0 * math.sin(angulo)\n",
    "\n",
    "\n",
    "tempo = 0.0\n",
    "dt = 0.1\n",
    "\n",
    "while tempo <= 3.61:\n",
    "    rate(10)\n",
    "    \n",
    "    bola.pos.y = bola.pos.y + v_0y * dt# V = V_0 + g * tempo\n",
    "    v_0y = v_0y - g * dt\n",
    "    \n",
    "    bola.pos.x = bola.pos.x + v_0x * dt  # S = S_0 + v * t\n",
    "    \n",
    "    tempo += dt\n",
    "    \n",
    "    legenda.text = 'Distância = {:0.3f} m'.format(bola.pos.x + 5)\n",
    "    legenda2.text = 'Altura = {:0.3f} m'.format(bola.pos.y)\n",
    "    \n",
    "    print(f\" Tempo - {tempo}, Distância - {bola.pos.x + 5}, Altura - {bola.pos.y}\")"
   ]
  }
 ],
 "metadata": {
  "kernelspec": {
   "display_name": "Python 3 (ipykernel)",
   "language": "python",
   "name": "python3"
  },
  "language_info": {
   "codemirror_mode": {
    "name": "ipython",
    "version": 3
   },
   "file_extension": ".py",
   "mimetype": "text/x-python",
   "name": "python",
   "nbconvert_exporter": "python",
   "pygments_lexer": "ipython3",
   "version": "3.10.11"
  }
 },
 "nbformat": 4,
 "nbformat_minor": 5
}
